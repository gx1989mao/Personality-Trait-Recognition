{
 "cells": [
  {
   "cell_type": "code",
   "execution_count": 2,
   "id": "875827b7",
   "metadata": {},
   "outputs": [
    {
     "name": "stdout",
     "output_type": "stream",
     "text": [
      "cuda\n"
     ]
    }
   ],
   "source": [
    "import torchvision\n",
    "from torchvision import transforms as T\n",
    "from torchvision.io import read_image\n",
    "\n",
    "import numpy as np\n",
    "\n",
    "import torch\n",
    "import torch.nn as nn\n",
    "import torch.nn.functional as F\n",
    "import torch.optim as optim\n",
    "\n",
    "device = torch.device('cuda') if torch.cuda.is_available() else torch.device('cpu')\n",
    "print(device)"
   ]
  },
  {
   "cell_type": "code",
   "execution_count": 4,
   "id": "9b0265a5",
   "metadata": {
    "collapsed": true
   },
   "outputs": [
    {
     "name": "stdout",
     "output_type": "stream",
     "text": [
      "Fri Nov 25 14:32:38 2022       \n",
      "+-----------------------------------------------------------------------------+\n",
      "| NVIDIA-SMI 526.98       Driver Version: 526.98       CUDA Version: 12.0     |\n",
      "|-------------------------------+----------------------+----------------------+\n",
      "| GPU  Name            TCC/WDDM | Bus-Id        Disp.A | Volatile Uncorr. ECC |\n",
      "| Fan  Temp  Perf  Pwr:Usage/Cap|         Memory-Usage | GPU-Util  Compute M. |\n",
      "|                               |                      |               MIG M. |\n",
      "|===============================+======================+======================|\n",
      "|   0  NVIDIA GeForce ... WDDM  | 00000000:01:00.0 Off |                  N/A |\n",
      "| N/A   42C    P8     6W /  N/A |    410MiB /  6144MiB |      0%      Default |\n",
      "|                               |                      |                  N/A |\n",
      "+-------------------------------+----------------------+----------------------+\n",
      "                                                                               \n",
      "+-----------------------------------------------------------------------------+\n",
      "| Processes:                                                                  |\n",
      "|  GPU   GI   CI        PID   Type   Process name                  GPU Memory |\n",
      "|        ID   ID                                                   Usage      |\n",
      "|=============================================================================|\n",
      "|    0   N/A  N/A      1376    C+G   C:\\Windows\\System32\\dwm.exe     N/A      |\n",
      "|    0   N/A  N/A      1468    C+G   ...icrosoft VS Code\\Code.exe    N/A      |\n",
      "|    0   N/A  N/A      2520    C+G   ...ysdiag\\bin\\HipsDaemon.exe    N/A      |\n",
      "|    0   N/A  N/A      7208    C+G   ...d\\runtime\\WeChatAppEx.exe    N/A      |\n",
      "|    0   N/A  N/A      9040    C+G   ...5n1h2txyewy\\SearchApp.exe    N/A      |\n",
      "|    0   N/A  N/A      9420    C+G   ...2txyewy\\TextInputHost.exe    N/A      |\n",
      "|    0   N/A  N/A     10708    C+G   ...tracted\\WechatBrowser.exe    N/A      |\n",
      "|    0   N/A  N/A     10984    C+G   ...6.0.3.0\\GoogleDriveFS.exe    N/A      |\n",
      "+-----------------------------------------------------------------------------+\n"
     ]
    }
   ],
   "source": [
    "!nvidia-smi"
   ]
  },
  {
   "cell_type": "markdown",
   "id": "72bbb813",
   "metadata": {},
   "source": [
    "# load chainer model"
   ]
  },
  {
   "cell_type": "code",
   "execution_count": 3,
   "id": "dc01836c",
   "metadata": {},
   "outputs": [],
   "source": [
    "from util import load_model, predict_trait, load_audio,load_video\n",
    "data = './fbjDmltKVOM.000.mp4'\n",
    "model = load_model()"
   ]
  },
  {
   "cell_type": "markdown",
   "id": "b0b44a77",
   "metadata": {},
   "source": [
    "# def pytorch model"
   ]
  },
  {
   "cell_type": "code",
   "execution_count": null,
   "id": "0dd1ccd5",
   "metadata": {},
   "outputs": [],
   "source": [
    "class Block_a(nn.Module):\n",
    "    def __init__(self, ch_in, ch_out):\n",
    "        super(Block_a, self).__init__()\n",
    "        self.conv1 = \n",
    "\n",
    "\n",
    "class ResNet18(nn.Module):\n",
    "    def __init__(self, n_class=1000, dropout_rate=0.0):\n",
    "        super(ResNet18, self).__init__()\n",
    "        \n",
    "        self.n_class = n_class\n",
    "\n",
    "        layers = [\n",
    "            [16, 16, 3, 2, \"RE\", True, 16],\n",
    "            [16, 24, 3, 2, \"RE\", False, 72],\n",
    "            [24, 24, 3, 1, \"RE\", False, 88],\n",
    "            [24, 40, 5, 2, \"RE\", True, 96],\n",
    "            [40, 40, 5, 1, \"RE\", True, 240],\n",
    "            [40, 40, 5, 1, \"RE\", True, 240],\n",
    "            [40, 48, 5, 1, \"HS\", True, 120],\n",
    "            [48, 48, 5, 1, \"HS\", True, 144],\n",
    "            [48, 96, 5, 2, \"HS\", True, 288],\n",
    "            [96, 96, 5, 1, \"HS\", True, 576],\n",
    "            [96, 96, 5, 1, \"HS\", True, 576],\n",
    "        ]\n",
    "\n",
    "        self.init_conv = nn.Sequential(\n",
    "            nn.Conv2d(in_channels=3, out_channels=16, kernel_size=3, stride=2, padding=1),\n",
    "            nn.BatchNorm2d(16),\n",
    "            h_swish(inplace=True),\n",
    "        )\n",
    "\n",
    "        self.block = []\n",
    "        for in_channels, out_channels, kernal_size, stride, nonlinear, se, exp_size in layers:\n",
    "            self.block.append(MobileBlock(in_channels, out_channels, kernal_size, stride, nonlinear, se, exp_size))\n",
    "        self.block = nn.Sequential(*self.block)\n",
    "\n",
    "\n",
    "        self.out_conv1 = nn.Sequential(\n",
    "            nn.Conv2d(96, 576, kernel_size=1, stride=1),\n",
    "            SqueezeBlock(576),\n",
    "            nn.BatchNorm2d(576),\n",
    "            h_swish(inplace=True),\n",
    "\n",
    "            nn.AdaptiveAvgPool2d(1),\n",
    "        )\n",
    "        self.out_conv2 = nn.Sequential(\n",
    "            nn.Conv2d(576, 1024, kernel_size=1, stride=1),\n",
    "            h_swish(inplace=True),\n",
    "            nn.Dropout(dropout_rate),\n",
    "            nn.Conv2d(1024, self.n_class, kernel_size=1, stride=1),\n",
    "        )\n",
    "\n",
    "\n",
    "    def forward(self, x):\n",
    "        out = self.init_conv(x)\n",
    "        out = self.block(out)\n",
    "        out = self.out_conv1(out)\n",
    "        SRM = out\n",
    "        out = self.out_conv2(out)\n",
    "        out = out.view(out.shape[0], -1)\n",
    "        return out,SRM"
   ]
  }
 ],
 "metadata": {
  "kernelspec": {
   "display_name": "Python 3 (ipykernel)",
   "language": "python",
   "name": "python3"
  },
  "language_info": {
   "codemirror_mode": {
    "name": "ipython",
    "version": 3
   },
   "file_extension": ".py",
   "mimetype": "text/x-python",
   "name": "python",
   "nbconvert_exporter": "python",
   "pygments_lexer": "ipython3",
   "version": "3.9.12"
  },
  "toc": {
   "base_numbering": 1,
   "nav_menu": {},
   "number_sections": true,
   "sideBar": true,
   "skip_h1_title": false,
   "title_cell": "Table of Contents",
   "title_sidebar": "Contents",
   "toc_cell": false,
   "toc_position": {
    "height": "calc(100% - 180px)",
    "left": "10px",
    "top": "150px",
    "width": "385.438px"
   },
   "toc_section_display": true,
   "toc_window_display": false
  }
 },
 "nbformat": 4,
 "nbformat_minor": 5
}
